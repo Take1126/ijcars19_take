{
 "cells": [
  {
   "cell_type": "code",
   "execution_count": 7,
   "metadata": {},
   "outputs": [
    {
     "name": "stdout",
     "output_type": "stream",
     "text": [
      "Collecting numpy==1.15.4\n",
      "  Downloading numpy-1.15.4.zip (4.5 MB)\n",
      "\u001b[K     |████████████████████████████████| 4.5 MB 10.9 MB/s eta 0:00:01\n",
      "\u001b[?25hCollecting Cython==0.29.7\n",
      "  Downloading Cython-0.29.7.tar.gz (2.0 MB)\n",
      "\u001b[K     |████████████████████████████████| 2.0 MB 11.3 MB/s eta 0:00:01\n",
      "\u001b[?25hCollecting pandas==0.23.0\n",
      "  Downloading pandas-0.23.0.tar.gz (13.1 MB)\n",
      "\u001b[K     |████████████████████████████████| 13.1 MB 12.1 MB/s eta 0:00:01\n",
      "\u001b[?25hCollecting Keras==2.2.4\n",
      "  Downloading Keras-2.2.4-py2.py3-none-any.whl (312 kB)\n",
      "\u001b[K     |████████████████████████████████| 312 kB 11.3 MB/s eta 0:00:01\n",
      "\u001b[?25hRequirement already satisfied: sklearn==0.0 in /usr/local/lib/python3.8/dist-packages (from -r requirements.txt (line 5)) (0.0)\n",
      "Collecting matplotlib==1.5.1\n",
      "  Downloading matplotlib-1.5.1.tar.gz (54.0 MB)\n",
      "\u001b[K     |████████████████████████████████| 54.0 MB 10.5 MB/s eta 0:00:01\n",
      "\u001b[31mERROR: Could not find a version that satisfies the requirement tensorflow-gpu==1.12.0 (from -r requirements.txt (line 7)) (from versions: 2.2.0, 2.2.1, 2.2.2, 2.2.3, 2.3.0, 2.3.1, 2.3.2, 2.3.3, 2.3.4, 2.4.0, 2.4.1, 2.4.2, 2.4.3, 2.4.4, 2.5.0, 2.5.1, 2.5.2, 2.5.3, 2.6.0, 2.6.1, 2.6.2, 2.6.3, 2.7.0rc0, 2.7.0rc1, 2.7.0, 2.7.1, 2.8.0rc0, 2.8.0rc1, 2.8.0, 2.9.0rc0, 2.9.0rc1)\u001b[0m\n",
      "\u001b[31mERROR: No matching distribution found for tensorflow-gpu==1.12.0 (from -r requirements.txt (line 7))\u001b[0m\n",
      "\u001b[33mWARNING: You are using pip version 20.2.4; however, version 22.0.4 is available.\n",
      "You should consider upgrading via the '/usr/bin/python3 -m pip install --upgrade pip' command.\u001b[0m\n",
      "\u001b[?25h"
     ]
    }
   ],
   "source": [
    "! pip install -r requirements.txt"
   ]
  },
  {
   "cell_type": "code",
   "execution_count": 16,
   "metadata": {
    "scrolled": true
   },
   "outputs": [
    {
     "name": "stdout",
     "output_type": "stream",
     "text": [
      "/tf/src\n"
     ]
    }
   ],
   "source": [
    "%cd src"
   ]
  },
  {
   "cell_type": "code",
   "execution_count": 18,
   "metadata": {},
   "outputs": [
    {
     "name": "stdout",
     "output_type": "stream",
     "text": [
      "classification.py:198: VisibleDeprecationWarning: Creating an ndarray from ragged nested sequences (which is a list-or-tuple of lists-or-tuples-or ndarrays with different lengths or shapes) is deprecated. If you meant to do this, you must specify 'dtype=object' when creating the ndarray.\r\n",
      "  x_train = np.array(x_train)\r\n",
      "classification.py:199: VisibleDeprecationWarning: Creating an ndarray from ragged nested sequences (which is a list-or-tuple of lists-or-tuples-or ndarrays with different lengths or shapes) is deprecated. If you meant to do this, you must specify 'dtype=object' when creating the ndarray.\r\n",
      "  x_test = np.array(x_test)\r\n",
      "End!\r\n"
     ]
    }
   ],
   "source": [
    "!python classification.py"
   ]
  },
  {
   "cell_type": "code",
   "execution_count": 19,
   "metadata": {},
   "outputs": [],
   "source": [
    "!python classification.py results"
   ]
  },
  {
   "cell_type": "code",
   "execution_count": 21,
   "metadata": {},
   "outputs": [
    {
     "name": "stdout",
     "output_type": "stream",
     "text": [
      "2022-04-25 06:00:57.940414: I tensorflow/core/platform/cpu_feature_guard.cc:151] This TensorFlow binary is optimized with oneAPI Deep Neural Network Library (oneDNN) to use the following CPU instructions in performance-critical operations:  AVX2 AVX512F FMA\n",
      "To enable them in other operations, rebuild TensorFlow with the appropriate compiler flags.\n",
      "2022-04-25 06:00:59.324141: I tensorflow/core/common_runtime/gpu/gpu_device.cc:1525] Created device /job:localhost/replica:0/task:0/device:GPU:0 with 22029 MB memory:  -> device: 0, name: NVIDIA RTX A5000, pci bus id: 0000:5e:00.0, compute capability: 8.6\n",
      "2022-04-25 06:00:59.325387: I tensorflow/core/common_runtime/gpu/gpu_device.cc:1525] Created device /job:localhost/replica:0/task:0/device:GPU:1 with 22341 MB memory:  -> device: 1, name: NVIDIA RTX A5000, pci bus id: 0000:86:00.0, compute capability: 8.6\n",
      "2022-04-25 06:00:59.326524: I tensorflow/core/common_runtime/gpu/gpu_device.cc:1525] Created device /job:localhost/replica:0/task:0/device:GPU:2 with 22341 MB memory:  -> device: 2, name: NVIDIA RTX A5000, pci bus id: 0000:d8:00.0, compute capability: 8.6\n",
      "2022-04-25 06:01:00.758191: I tensorflow/stream_executor/cuda/cuda_dnn.cc:368] Loaded cuDNN version 8100\n",
      "2022-04-25 06:01:02.264997: I tensorflow/stream_executor/cuda/cuda_blas.cc:1786] TensorFloat-32 will be used for the matrix multiplication. This will only be logged once.\n",
      "predicted_label:2\n",
      "classification.py:366: DeprecationWarning: `np.float` is a deprecated alias for the builtin `float`. To silence this warning, use `float` by itself. Doing this will not modify any behavior and is safe. If you specifically wanted the numpy scalar type, use `np.float64` here.\n",
      "Deprecated in NumPy 1.20; for more details and guidance: https://numpy.org/devdocs/release/1.20.0-notes.html#deprecations\n",
      "  cas = np.zeros(dtype=np.float, shape=(conv_out.shape[1]))\n"
     ]
    }
   ],
   "source": [
    "!python classification.py cas"
   ]
  },
  {
   "cell_type": "code",
   "execution_count": 22,
   "metadata": {},
   "outputs": [
    {
     "name": "stdout",
     "output_type": "stream",
     "text": [
      "Traceback (most recent call last):\r\n",
      "  File \"regression.py\", line 535, in <module>\r\n",
      "    surgeries_metadata = getMetaDataForSurgeries(surgery_type)\r\n",
      "  File \"regression.py\", line 38, in getMetaDataForSurgeries\r\n",
      "    file = open(root_dir + surgery_type + '_kinematic/' + 'meta_file_' + surgery_type + '.txt', 'r')\r\n",
      "FileNotFoundError: [Errno 2] No such file or directory: '../JIGSAWS/Suturing_kinematic/meta_file_Suturing.txt'\r\n"
     ]
    }
   ],
   "source": [
    "!python regression.py"
   ]
  },
  {
   "cell_type": "code",
   "execution_count": null,
   "metadata": {},
   "outputs": [],
   "source": []
  }
 ],
 "metadata": {
  "kernelspec": {
   "display_name": "Python 3",
   "language": "python",
   "name": "python3"
  },
  "language_info": {
   "codemirror_mode": {
    "name": "ipython",
    "version": 3
   },
   "file_extension": ".py",
   "mimetype": "text/x-python",
   "name": "python",
   "nbconvert_exporter": "python",
   "pygments_lexer": "ipython3",
   "version": "3.8.10"
  }
 },
 "nbformat": 4,
 "nbformat_minor": 2
}
